{
 "cells": [
  {
   "cell_type": "markdown",
   "metadata": {},
   "source": [
    "# Анализ популярности языков программирования (2019-2024)"
   ]
  },
  {
   "cell_type": "code",
   "execution_count": null,
   "metadata": {},
   "outputs": [],
   "source": [
    "import pandas as pd\n",
    "import matplotlib.pyplot as plt\n",
    "import seaborn as sns\n",
    "import plotly.express as px\n",
    "\n",
    "# Load data\n",
    "df = pd.read_csv('../data/processed/programming_languages.csv')"
   ]
  },
  {
   "cell_type": "code",
   "execution_count": null,
   "metadata": {},
   "outputs": [],
   "source": [
    "# Trend analysis\n",
    "plt.figure(figsize=(12, 6))\n",
    "sns.lineplot(data=df, x='date', y='count', hue='language')\n",
    "plt.title('Popularity Trends of Programming Languages (2019-2024)')\n",
    "plt.xlabel('Year')\n",
    "plt.ylabel('Popularity Metric')\n",
    "plt.xticks(rotation=45)\n",
    "plt.tight_layout()\n",
    "plt.savefig('../visualizations/trends.png')"
   ]
  },
  {
   "cell_type": "code",
   "execution_count": null,
   "metadata": {},
   "outputs": [],
   "source": [
    "# Comparative analysis\n",
    "fig = px.bar(df.groupby('language')['count'].mean().reset_index(), \n",
    "             x='language', y='count', \n",
    "             title='Average Popularity by Language')\n",
    "fig.write_html('../visualizations/comparison.html')"
   ]
  },
  {
   "cell_type": "markdown",
   "metadata": {},
   "source": [
    "## Выводы\n",
    "- Python сохраняет лидерство\n",
    "- Rust показывает наибольший рост\n",
    "- JavaScript доминирует в веб-разработке"
   ]
  }
 ],
 "metadata": {
  "kernelspec": {
   "display_name": "Python 3",
   "language": "python",
   "name": "python3"
  }
 }
}
