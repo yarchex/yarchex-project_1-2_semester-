import pandas as pd
import matplotlib.pyplot as plt
import seaborn as sns
import plotly.express as px

# Загрузка данных
tiobe = pd.read_csv('../data/processed/tiobe_processed.csv')
pypl = pd.read_csv('../data/processed/pypl_processed.csv')
historical = pd.read_csv('../data/processed/historical_processed.csv')

# Объединение данных
full_data = pd.concat([historical, tiobe, pypl])

# 1. Динамика популярности
plt.figure(figsize=(14, 8))
sns.lineplot(data=full_data, x='year', y='popularity', hue='language', 
             marker='o', linewidth=2.5)
plt.title('Динамика популярности языков (2019-2024)')
plt.xlabel('Год')
plt.ylabel('Популярность (%)')
plt.grid(True)
plt.legend(bbox_to_anchor=(1.05, 1), loc='upper left')
plt.tight_layout()
plt.show()

# 2. Топ языков 2024
top_2024 = full_data[full_data['year'] == 2024].nlargest(10, 'popularity')
fig = px.bar(top_2024, x='language', y='popularity', 
             title='Топ-10 языков в 2024',
             color='language', text='popularity')
fig.update_traces(texttemplate='%{text:.2f}%', textposition='outside')
fig.update_layout(showlegend=False)
fig.show()

# 3. Сравнение источников
comparison = pd.merge(tiobe, pypl, on=['language', 'year'], 
                     suffixes=('_tiobe', '_pypl'))

plt.figure(figsize=(10, 6))
sns.scatterplot(data=comparison, x='popularity_tiobe', y='popularity_pypl', 
                hue='language', s=100)
plt.title('Сравнение TIOBE и PYPL')
plt.xlabel('TIOBE Rating (%)')
plt.ylabel('PYPL Share (%)')
plt.grid(True)
plt.show()

# Выводы
print("\nКлючевые выводы:")
print("1. Python сохраняет лидерство")
print("2. JavaScript стабильно в топ-3")
print("3. Rust показывает наибольший рост")
print("4. Java теряет популярность")
print("5. Go продолжает расти")
