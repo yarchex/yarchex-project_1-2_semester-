{
 "cells": [
  {
   "cell_type": "markdown",
   "metadata": {},
   "source": [
    "# Анализ популярности языков программирования (2019-2024)"
   ]
  },
  {
   "cell_type": "code",
   "execution_count": null,
   "metadata": {},
   "outputs": [],
   "source": [
    "import pandas as pd\n",
    "import matplotlib.pyplot as plt\n",
    "import seaborn as sns\n",
    "import plotly.express as px\n",
    "import os\n",
    "\n",
    "# Создаем папку для визуализаций\n",
    "os.makedirs('../visualizations', exist_ok=True)\n",
    "\n",
    "# Загрузка данных\n",
    "df = pd.read_csv('../data/processed/programming_languages.csv')\n",
    "df['date'] = pd.to_datetime(df['date'])\n",
    "\n",
    "# Предпросмотр данных\n",
    "df.head()"
   ]
  },
  {
   "cell_type": "code",
   "execution_count": null,
   "metadata": {},
   "outputs": [],
   "source": [
    "# График трендов (matplotlib)\n",
    "plt.figure(figsize=(12, 6))\n",
    "sns.lineplot(data=df, x='date', y='count', hue='language')\n",
    "plt.title('Динамика популярности языков программирования (2019-2024)')\n",
    "plt.xlabel('Год')\n",
    "plt.ylabel('Метрика популярности')\n",
    "plt.xticks(rotation=45)\n",
    "plt.tight_layout()\n",
    "plt.savefig('../visualizations/trends.png', dpi=300)\n",
    "plt.show()"
   ]
  },
  {
   "cell_type": "code",
   "execution_count": null,
   "metadata": {},
   "outputs": [],
   "source": [
    "# Сравнение языков (plotly)\n",
    "fig = px.bar(\n",
    "    df.groupby('language')['count'].mean().reset_index().sort_values('count', ascending=False),\n",
    "    x='language', \n",
    "    y='count',\n",
    "    title='Средняя популярность языков программирования',\n",
    "    labels={'count': 'Популярность', 'language': 'Язык программирования'}\n",
    ")\n",
    "fig.write_html('../visualizations/comparison.html')\n",
    "fig.show()"
   ]
  },
  {
   "cell_type": "code",
   "execution_count": null,
   "metadata": {},
   "outputs": [],
   "source": [
    "# Тепловая карта корреляций (seaborn)\n",
    "pivot_df = df.pivot_table(index='date', columns='language', values='count')\n",
    "plt.figure(figsize=(10, 8))\n",
    "sns.heatmap(pivot_df.corr(), annot=True, cmap='coolwarm', center=0)\n",
    "plt.title('Корреляция между языками программирования')\n",
    "plt.savefig('../visualizations/correlation.png', dpi=300)\n",
    "plt.show()"
   ]
  },
  {
   "cell_type": "markdown",
   "metadata": {},
   "source": [
    "## Ключевые выводы\n",
    "- **Python** сохраняет абсолютное лидерство с 2019 года\n",
    "- **Rust** демонстрирует наибольший относительный рост (+35% за 5 лет)\n",
    "- **JavaScript** остается доминирующим в веб-разработке\n",
    "- **Go** показывает стабильный рост в корпоративном секторе"
   ]
  }
 ],
 "metadata": {
  "kernelspec": {
   "display_name": "Python 3 (ipykernel)",
   "language": "python",
   "name": "python3"
  },
  "language_info": {
   "codemirror_mode": {
    "name": "ipython",
    "version": 3
   },
   "file_extension": ".py",
   "mimetype": "text/x-python",
   "name": "python",
   "nbconvert_exporter": "python",
   "pygments_lexer": "ipython3",
   "version": "3.9.0"
  }
 }
}
