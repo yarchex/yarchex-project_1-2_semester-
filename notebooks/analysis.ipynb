{
 "cells": [
  {
   "cell_type": "markdown",
   "metadata": {},
   "source": [
    "# Анализ популярности языков программирования (2019-2024)"
   ]
  },
  {
   "cell_type": "code",
   "execution_count": null,
   "metadata": {},
   "outputs": [],
   "source": [
    "# Минимально необходимые библиотеки (есть в requirements.txt)\n",
    "import pandas as pd\n",
    "import matplotlib.pyplot as plt\n",
    "import seaborn as sns\n",
    "import os\n",
    "\n",
    "# Создаем папку для графиков\n",
    "os.makedirs('../visualizations', exist_ok=True)\n",
    "\n",
    "# Загрузка данных (CSV из папки data/processed)\n",
    "try:\n",
    "    df = pd.read_csv('../data/processed/programming_languages.csv')\n",
    "    print('Данные успешно загружены. Пример данных:')\n",
    "    display(df.head())\n",
    "except Exception as e:\n",
    "    print(f'Ошибка загрузки данных: {e}')"
   ]
  },
  {
   "cell_type": "code",
   "execution_count": null,
   "metadata": {},
   "outputs": [],
   "source": [
    "# График 1: Линейный тренд (matplotlib)\n",
    "plt.figure(figsize=(12, 6))\n",
    "for lang in df['language'].unique():\n",
    "    lang_data = df[df['language'] == lang]\n",
    "    plt.plot(lang_data['date'], lang_data['count'], label=lang, marker='o')\n",
    "\n",
    "plt.title('Динамика популярности языков (2019-2024)', fontsize=14)\n",
    "plt.xlabel('Год', fontsize=12)\n",
    "plt.ylabel('Метрика популярности', fontsize=12)\n",
    "plt.legend()\n",
    "plt.grid(True)\n",
    "plt.savefig('../visualizations/trend_plot.png', bbox_inches='tight', dpi=120)\n",
    "plt.show()"
   ]
  },
  {
   "cell_type": "code",
   "execution_count": null,
   "metadata": {},
   "outputs": [],
   "source": [
    "# График 2: Столбчатая диаграмма (seaborn)\n",
    "plt.figure(figsize=(10, 6))\n",
    "sns.barplot(data=df, x='language', y='count', estimator=sum, ci=None)\n",
    "plt.title('Суммарная популярность языков', fontsize=14)\n",
    "plt.xlabel('Язык программирования', fontsize=12)\n",
    "plt.ylabel('Общая популярность', fontsize=12)\n",
    "plt.xticks(rotation=45)\n",
    "plt.savefig('../visualizations/bar_plot.png', bbox_inches='tight', dpi=120)\n",
    "plt.show()"
   ]
  },
  {
   "cell_type": "code",
   "execution_count": null,
   "metadata": {},
   "outputs": [],
