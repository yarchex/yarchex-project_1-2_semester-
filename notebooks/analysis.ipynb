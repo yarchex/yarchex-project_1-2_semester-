{
 "cells": [
  {
   "cell_type": "markdown",
   "metadata": {},
   "source": [
    "# Анализ популярности языков программирования (2019-2024)"
   ]
  },
  {
   "cell_type": "code",
   "execution_count": null,
@@ -18,48 +11,55 @@
    "import seaborn as sns\n",
    "import plotly.express as px\n",
    "\n",
    "# Load data\n",
    "df = pd.read_csv('../data/processed/programming_languages.csv')"
   ]
  },
  {
   "cell_type": "code",
   "execution_count": null,
   "metadata": {},
   "outputs": [],
   "source": [
    "# Trend analysis\n",
    "plt.figure(figsize=(12, 6))\n",
    "sns.lineplot(data=df, x='date', y='count', hue='language')\n",
    "plt.title('Popularity Trends of Programming Languages (2019-2024)')\n",
    "plt.xlabel('Year')\n",
    "plt.ylabel('Popularity Metric')\n",
    "plt.xticks(rotation=45)\n",
    "# Загрузка данных\n",
    "tiobe = pd.read_csv('../data/processed/tiobe_processed.csv')\n",
    "pypl = pd.read_csv('../data/processed/pypl_processed.csv')\n",
    "historical = pd.read_csv('../data/processed/historical_processed.csv')\n",
    "\n",
    "# Объединение данных\n",
    "full_data = pd.concat([historical, tiobe, pypl])\n",
    "\n",
    "# 1. Динамика популярности\n",
    "plt.figure(figsize=(14, 8))\n",
    "sns.lineplot(data=full_data, x='year', y='popularity', hue='language', \n",
    "             marker='o', linewidth=2.5)\n",
    "plt.title('Динамика популярности языков (2019-2024)')\n",
    "plt.xlabel('Год')\n",
    "plt.ylabel('Популярность (%)')\n",
    "plt.grid(True)\n",
    "plt.legend(bbox_to_anchor=(1.05, 1), loc='upper left')\n",
    "plt.tight_layout()\n",
    "plt.savefig('../visualizations/trends.png')"
   ]
  },
  {
   "cell_type": "code",
   "execution_count": null,
   "metadata": {},
   "outputs": [],
   "source": [
    "# Comparative analysis\n",
    "fig = px.bar(df.groupby('language')['count'].mean().reset_index(), \n",
    "             x='language', y='count', \n",
    "             title='Average Popularity by Language')\n",
    "fig.write_html('../visualizations/comparison.html')"
   ]
  },
  {
   "cell_type": "markdown",
   "metadata": {},
   "source": [
    "## Выводы\n",
    "- Python сохраняет лидерство\n",
    "- Rust показывает наибольший рост\n",
    "- JavaScript доминирует в веб-разработке"
    "plt.show()\n",
    "\n",
    "# 2. Топ языков 2024\n",
    "top_2024 = full_data[full_data['year'] == 2024].nlargest(10, 'popularity')\n",
    "fig = px.bar(top_2024, x='language', y='popularity', \n",
    "             title='Топ-10 языков в 2024',\n",
    "             color='language', text='popularity')\n",
    "fig.update_traces(texttemplate='%{text:.2f}%', textposition='outside')\n",
    "fig.update_layout(showlegend=False)\n",
    "fig.show()\n",
    "\n",
    "# 3. Сравнение источников\n",
    "comparison = pd.merge(tiobe, pypl, on=['language', 'year'], \n",
    "                     suffixes=('_tiobe', '_pypl'))\n",
    "\n",
    "plt.figure(figsize=(10, 6))\n",
    "sns.scatterplot(data=comparison, x='popularity_tiobe', y='popularity_pypl', \n",
    "                hue='language', s=100)\n",
    "plt.title('Сравнение TIOBE и PYPL')\n",
    "plt.xlabel('TIOBE Rating (%)')\n",
    "plt.ylabel('PYPL Share (%)')\n",
    "plt.grid(True)\n",
    "plt.show()\n",
    "\n",
    "# Выводы\n",
    "print(\"\\nКлючевые выводы:\")\n",
    "print(\"1. Python сохраняет лидерство\")\n",
    "print(\"2. JavaScript стабильно в топ-3\")\n",
    "print(\"3. Rust показывает наибольший рост\")\n",
    "print(\"4. Java теряет популярность\")\n",
    "print(\"5. Go продолжает расти\")"
   ]
  }
 ],
@@ -68,6 +68,20 @@
   "display_name": "Python 3",
   "language": "python",
   "name": "python3"
  },
  "language_info": {
   "codemirror_mode": {
    "name": "ipython",
    "version": 3
   },
   "file_extension": ".py",
   "mimetype": "text/x-python",
   "name": "python",
   "nbconvert_exporter": "python",
   "pygments_lexer": "ipython3",
   "version": "3.9.0"
  }
 }
 },
 "nbformat": 4,
 "nbformat_minor": 4
}
