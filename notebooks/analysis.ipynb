{
 "cells": [
  {
   "cell_type": "code",
   "execution_count": 1,
   "metadata": {},
   "outputs": [
    {
     "data": {
      "image/png": "base64:...",  # Здесь будет код вашего графика
      "text/plain": "<Figure size 1400x800 with 1 Axes>"
     },
     "metadata": {},
     "output_type": "display_data"
    }
   ],
   "source": [
    "# Код для первого графика..."
   ]
  },
  {
   "cell_type": "code",
   "execution_count": 2,
   "metadata": {},
   "outputs": [
    {
     "data": {
      "application/vnd.plotly.v1+json": "{\"data\":[{\"x\":[\"Python\",\"JavaScript\",\"Java\"],\"y\":[30,20,15]...}",  # Данные Plotly
      "text/html": "<div>...</div>"
     },
     "metadata": {},
     "output_type": "display_data"
    }
   ],
   "source": [
    "# Код для второго графика..."
   ]
  }
 ],
 "metadata": {}
}
