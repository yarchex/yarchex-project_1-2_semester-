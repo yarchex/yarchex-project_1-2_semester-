import requests
from bs4 import BeautifulSoup
import pandas as pd
import time
from tqdm import tqdm
import os

# Создаем папку для данных, если ее нет
os.makedirs('../data/raw', exist_ok=True)

# 1. Сбор данных с TIOBE Index
def scrape_tiobe():
    url = "https://www.tiobe.com/tiobe-index/"
    response = requests.get(url)
    soup = BeautifulSoup(response.text, 'html.parser')
    
    # Находим таблицу с данными
    table = soup.find('table', {'id': 'top20'})
    rows = table.find_all('tr')[1:]  # Пропускаем заголовок
    
    data = []
    for row in rows:
        cols = row.find_all('td')
        data.append({
            'rank': cols[0].text.strip(),
            'language': cols[3].text.strip(),
            'rating': cols[4].text.strip().replace('%', ''),
            'year': 2024  # Текущий год
        })
    
    return pd.DataFrame(data)

# 2. Сбор данных с PYPL (GitHub)
def scrape_pypl():
    url = "http://pypl.github.io/PYPL.html"
    response = requests.get(url)
    soup = BeautifulSoup(response.text, 'html.parser')
    
    table = soup.find('table', {'id': 'tab'})
    rows = table.find_all('tr')[1:]  # Пропускаем заголовок
    
    data = []
    for row in rows:
        cols = row.find_all('td')
        if len(cols) >= 4:
            data.append({
                'rank': cols[0].text.strip(),
                'language': cols[1].text.strip(),
                'share': cols[2].text.strip().replace('%', ''),
                'year': 2024
            })
    
    return pd.DataFrame(data)

# 3. Сбор исторических данных (2019-2023)
def get_historical_data():
    # Здесь можно использовать API или готовые CSV
    # Для примера создадим синтетические данные
    years = range(2019, 2024)
    languages = ['Python', 'JavaScript', 'Java', 'C#', 'C++', 'PHP', 'TypeScript', 'Go', 'Rust']
    
    data = []
    for year in years:
        for lang in languages:
            data.append({
                'year': year,
                'language': lang,
                'popularity': round(100 - (languages.index(lang) * 5) + (year - 2019), 2)
            })
    
    return pd.DataFrame(data)

# Основной код сбора данных
if __name__ == "__main__":
    print("Собираем данные...")
    
    # Собираем данные с разных источников
    tiobe_df = scrape_tiobe()
    pypl_df = scrape_pypl()
    historical_df = get_historical_data()
    
    # Сохраняем сырые данные
    tiobe_df.to_csv('../data/raw/tiobe_2024.csv', index=False)
    pypl_df.to_csv('../data/raw/pypl_2024.csv', index=False)
    historical_df.to_csv('../data/raw/historical_2019_2023.csv', index=False)
    
    print("Данные успешно собраны и сохранены в data/raw/")
